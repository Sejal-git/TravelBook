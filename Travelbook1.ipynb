{
 "cells": [
  {
   "cell_type": "code",
   "execution_count": 8,
   "metadata": {},
   "outputs": [
    {
     "name": "stdout",
     "output_type": "stream",
     "text": [
      "\n",
      "\n",
      "Sinhagad is a hill fortress located at around 35 km southwest of the city of Pune, India. Some of the information available at this fort suggests that the fort could have been built 2000 years ago. The caves and the carvings in the Kaundinyeshwar temple stand as proofs for the same.\n",
      "\n",
      "Previously known as Kondhana, the fort had been the site of many battles, most notably the Battle of Sinhagad in 1670. Perched on an isolated cliff of the Bhuleswar range in the Sahyadri Mountains, the fort is situated on a hill about 760 metres above ground and 1,312 metres above mean sea level.[citation needed]\n",
      "\n",
      "The Sinhagad (Lion's Fort) was strategically built to provide natural protection due to its very steep slopes. The walls and bastions were constructed only at key places. There are two gates to enter the fort, the Kalyan Darwaza and Pune Darwaza which are positioned at the south east and north-east ends respectively.[1] The fort was also strategically located at the centre of a string of other Maratha Empire forts such as Rajgad Fort, Purandar Fort and Torna Fort.\n",
      "\n",
      "The Sinhgad Fort was initially known as \"Kondhana\" after the sage Kaundinya. The Kaundinyeshwar temple coupled with the caves and carvings indicates that the fort had probably been built around two thousand years ago. It was seized by Muhammad bin Tughlaq from the Koli king Nag Naik in 1328 AD.[2][3]\n",
      "\n",
      "Shahaji Bhosale, as the commander of Ibrahim Adil Shah I, was entrusted with the control of the Pune region. His son Chhatrapati Shivaji Maharaj, refused to accept the Adilshahi and initiated the task of setting up Swarajya. Chhatrapati Shivaji Maharaj gained control of Kondana in 1647 by convincing Siddi Amber, the Adilshahi Sardar who controlled the fort, that he, the son of Shahaji Bhosale, could manage the fort's defenses optimally. Bapuji Mudgal Deshpande played a key role in this activity. Adil Shah jailed Siddi Amber for this treasonous act and schemed to get it back. He imprisoned Shahaji Bhosale for a concocted crime and informed Chhatrapati Shivaji Maharaj. In 1649, Adil Shah traded the fort for Shahaji's release. Chhatrapati Shivaji Maharaj recaptured it in 1656 again with the help of Bapuji Mudgal Deshpande who convinced the Fort commander by giving land in the newly created Shivapur village and peacefully gained control of the fort.\n",
      "\n",
      "This fort saw attacks by Mughals in 1662, 1663 and 1665. In 1664, Shaista Khan, a Mughal general, tried to bribe the people of the fort to hand it over to him, but was unsuccessful.\n",
      "\n",
      "Through the Treaty of Purandar, the fort passed into the hands of the Mughal army chief Mirza Raja Jai Singh I in the year 1665.\n",
      "\n",
      "In 1670, Chhatrapati Shivaji Maharaj reconquered the fort for the third time and the fort came and stayed under the Maratha rule till 1689 A.D.\n",
      "\n",
      "After the death of Chhatrapati Sambhaji Maharaj, the Mughals regained control of the fort. The Marathas headed by \"Sardar Balkawade\", recaptured it in 1693. Chatrapati Rajaram took asylum in this fort during a Mogul raid on Satara but died in the Sinhagad Fort on 3 March 1700 A.D.\n",
      "\n",
      "In 1703, Aurangzeb conquered the fort. In 1706, it once again went into the hands of the Maratha's. Pantaji Shivdev of Sangola, Visaji Chafar and the Pant Pratinidhis played a key role in this battle. The fort remained under the Maratha rule till the year 1818, after which the British conquered it. The British, however, took 3 months to capture this fort, which was longest it took them to win any fort in Maharashtra.[citation needed]\n",
      "\n",
      "One of the most famous battles on Sinhgad was fought by Tanaji Malusare, general of Chhatrapati Shivaji of the Maratha Empire in order to recapture the fort on March 1670[4]\n",
      "\n",
      "A steep cliff leading to the fort was scaled in the dead of the night with the help of a tamed monitor lizard named \"Yashwanti\", colloquially known as a Ghorpad. Thereafter, A fierce battle ensued between Tanaji and his men versus the Mughal army headed by Udaybhan Singh Rathod, a Rajput sardar who had control of the fort. Tanaji Malusare lost his life, but his brother Suryaji took over and captured the Kondana fort, now known as Sinhagad.[5]\n",
      "\n",
      "There is an anecdote that upon hearing of Tanaji's death, Chhatrapati Shivaji Maharaj expressed his remorse with the words, \"Gad aala, pan Sinha gela\" - \"The Fort is conquered, but the Lion was lost\".\n",
      "\n",
      "According to some, the name Sinhagad predates this event. A bust of Tanaji Malusare was established on the fort in the memory of his contribution to the battle.[6]\n",
      "\n",
      "The Sinhagad Fort is a popular weekend destination for many residents of Pune, including trekking enthusiasts with access to the top of the fort from the base of the Sinhgad village. The trek involves a one-way walk of 2.7 km (1.6 miles) over which the walker gains about 600 m (1950 feet) in elevation.\n",
      "\n",
      "Parts of the once extensive fortification are in ruins. The fort houses a memorial to Tanaji as well as the tomb of Rajaram Chhatrapati. Visitors can see the military stables, a brewery and a temple of the goddess Kali (goddess) along with a Hanuman statue to the right side of the temple, as well as the historic gates. The original commemorative memorial of Tanaji Malusare has been unearthed by the restoration workers at Sinhagad Fort in Feb 2019. The stone structure was found buried under cement, concrete, and layers of oil paint and is believed to be around 350 years old.[7]\n",
      "\n",
      "Shinhagad Fort has played a vital role in India's freedom struggle. Bal Gandagdhar Tilak also known as 'The Father of Indian Unrest', used the fort as a summer retreat. It is here where Mahatma Gandhi after his return from South Africa had a historic meeting with Tilak. The bungalow has his bust at the entrance.[8]\n",
      "\n",
      "Training exercises are carried out at the fort by cadets from the National Defence Academy at Khadakwasla. Cadets from the academy are regularly sent on hikes and runs from NDA to Sinhagad in full battle gear.\n",
      "\n",
      "The fort also houses a television tower for broadcasting local TV signals. Currently, Non-Vegetarian food, Partying including alcoholic beverages and smoking is banned on the fort.[9][10]\n",
      "\n",
      "Pune Mahanagar Parivahan Mahamandal Limited (PMPML) runs a bus service (bus number 50) from Shaniwarwada to the Sinhagad foothills (Sinhagad Payatha)[11]. The climbing route from either side of the fort can be covered in an hour. Shared taxi services to the base as well as the top of the mountain are also available.\n",
      "\n",
      "['Sinhagad', 'hill', 'fortress', 'located', 'around', '35', 'km', 'southwest', 'city', 'Pune,', 'India.', 'Some', 'information', 'available', 'fort', 'suggests', 'fort', 'could', 'built', '2000', 'years', 'ago.', 'The', 'caves', 'carvings', 'Kaundinyeshwar', 'temple', 'stand', 'proofs', 'same.', 'Previously', 'known', 'Kondhana,', 'fort', 'site', 'many', 'battles,', 'notably', 'Battle', 'Sinhagad', '1670.', 'Perched', 'isolated', 'cliff', 'Bhuleswar', 'range', 'Sahyadri', 'Mountains,', 'fort', 'situated', 'hill', '760', 'metres', 'ground', '1,312', 'metres', 'mean', 'sea', 'level.[citation', 'needed]', 'The', 'Sinhagad', \"(Lion's\", 'Fort)', 'strategically', 'built', 'provide', 'natural', 'protection', 'due', 'steep', 'slopes.', 'The', 'walls', 'bastions', 'constructed', 'key', 'places.', 'There', 'two', 'gates', 'enter', 'fort,', 'Kalyan', 'Darwaza', 'Pune', 'Darwaza', 'positioned', 'south', 'east', 'north-east', 'ends', 'respectively.[1]', 'The', 'fort', 'also', 'strategically', 'located', 'centre', 'string', 'Maratha', 'Empire', 'forts', 'Rajgad', 'Fort,', 'Purandar', 'Fort', 'Torna', 'Fort.', 'The', 'Sinhgad', 'Fort', 'initially', 'known', '\"Kondhana\"', 'sage', 'Kaundinya.', 'The', 'Kaundinyeshwar', 'temple', 'coupled', 'caves', 'carvings', 'indicates', 'fort', 'probably', 'built', 'around', 'two', 'thousand', 'years', 'ago.', 'It', 'seized', 'Muhammad', 'bin', 'Tughlaq', 'Koli', 'king', 'Nag', 'Naik', '1328', 'AD.[2][3]', 'Shahaji', 'Bhosale,', 'commander', 'Ibrahim', 'Adil', 'Shah', 'I,', 'entrusted', 'control', 'Pune', 'region.', 'His', 'son', 'Chhatrapati', 'Shivaji', 'Maharaj,', 'refused', 'accept', 'Adilshahi', 'initiated', 'task', 'setting', 'Swarajya.', 'Chhatrapati', 'Shivaji', 'Maharaj', 'gained', 'control', 'Kondana', '1647', 'convincing', 'Siddi', 'Amber,', 'Adilshahi', 'Sardar', 'controlled', 'fort,', 'he,', 'son', 'Shahaji', 'Bhosale,', 'could', 'manage', \"fort's\", 'defenses', 'optimally.', 'Bapuji', 'Mudgal', 'Deshpande', 'played', 'key', 'role', 'activity.', 'Adil', 'Shah', 'jailed', 'Siddi', 'Amber', 'treasonous', 'act', 'schemed', 'get', 'back.', 'He', 'imprisoned', 'Shahaji', 'Bhosale', 'concocted', 'crime', 'informed', 'Chhatrapati', 'Shivaji', 'Maharaj.', 'In', '1649,', 'Adil', 'Shah', 'traded', 'fort', \"Shahaji's\", 'release.', 'Chhatrapati', 'Shivaji', 'Maharaj', 'recaptured', '1656', 'help', 'Bapuji', 'Mudgal', 'Deshpande', 'convinced', 'Fort', 'commander', 'giving', 'land', 'newly', 'created', 'Shivapur', 'village', 'peacefully', 'gained', 'control', 'fort.', 'This', 'fort', 'saw', 'attacks', 'Mughals', '1662,', '1663', '1665.', 'In', '1664,', 'Shaista', 'Khan,', 'Mughal', 'general,', 'tried', 'bribe', 'people', 'fort', 'hand', 'him,', 'unsuccessful.', 'Through', 'Treaty', 'Purandar,', 'fort', 'passed', 'hands', 'Mughal', 'army', 'chief', 'Mirza', 'Raja', 'Jai', 'Singh', 'I', 'year', '1665.', 'In', '1670,', 'Chhatrapati', 'Shivaji', 'Maharaj', 'reconquered', 'fort', 'third', 'time', 'fort', 'came', 'stayed', 'Maratha', 'rule', 'till', '1689', 'A.D.', 'After', 'death', 'Chhatrapati', 'Sambhaji', 'Maharaj,', 'Mughals', 'regained', 'control', 'fort.', 'The', 'Marathas', 'headed', '\"Sardar', 'Balkawade\",', 'recaptured', '1693.', 'Chatrapati', 'Rajaram', 'took', 'asylum', 'fort', 'Mogul', 'raid', 'Satara', 'died', 'Sinhagad', 'Fort', '3', 'March', '1700', 'A.D.', 'In', '1703,', 'Aurangzeb', 'conquered', 'fort.', 'In', '1706,', 'went', 'hands', \"Maratha's.\", 'Pantaji', 'Shivdev', 'Sangola,', 'Visaji', 'Chafar', 'Pant', 'Pratinidhis', 'played', 'key', 'role', 'battle.', 'The', 'fort', 'remained', 'Maratha', 'rule', 'till', 'year', '1818,', 'British', 'conquered', 'it.', 'The', 'British,', 'however,', 'took', '3', 'months', 'capture', 'fort,', 'longest', 'took', 'win', 'fort', 'Maharashtra.[citation', 'needed]', 'One', 'famous', 'battles', 'Sinhgad', 'fought', 'Tanaji', 'Malusare,', 'general', 'Chhatrapati', 'Shivaji', 'Maratha', 'Empire', 'order', 'recapture', 'fort', 'March', '1670[4]', 'A', 'steep', 'cliff', 'leading', 'fort', 'scaled', 'dead', 'night', 'help', 'tamed', 'monitor', 'lizard', 'named', '\"Yashwanti\",', 'colloquially', 'known', 'Ghorpad.', 'Thereafter,', 'A', 'fierce', 'battle', 'ensued', 'Tanaji', 'men', 'versus', 'Mughal', 'army', 'headed', 'Udaybhan', 'Singh', 'Rathod,', 'Rajput', 'sardar', 'control', 'fort.', 'Tanaji', 'Malusare', 'lost', 'life,', 'brother', 'Suryaji', 'took', 'captured', 'Kondana', 'fort,', 'known', 'Sinhagad.[5]', 'There', 'anecdote', 'upon', 'hearing', \"Tanaji's\", 'death,', 'Chhatrapati', 'Shivaji', 'Maharaj', 'expressed', 'remorse', 'words,', '\"Gad', 'aala,', 'pan', 'Sinha', 'gela\"', '-', '\"The', 'Fort', 'conquered,', 'Lion', 'lost\".', 'According', 'some,', 'name', 'Sinhagad', 'predates', 'event.', 'A', 'bust', 'Tanaji', 'Malusare', 'established', 'fort', 'memory', 'contribution', 'battle.[6]', 'The', 'Sinhagad', 'Fort', 'popular', 'weekend', 'destination', 'many', 'residents', 'Pune,', 'including', 'trekking', 'enthusiasts', 'access', 'top', 'fort', 'base', 'Sinhgad', 'village.', 'The', 'trek', 'involves', 'one-way', 'walk', '2.7', 'km', '(1.6', 'miles)', 'walker', 'gains', '600', '(1950', 'feet)', 'elevation.', 'Parts', 'extensive', 'fortification', 'ruins.', 'The', 'fort', 'houses', 'memorial', 'Tanaji', 'well', 'tomb', 'Rajaram', 'Chhatrapati.', 'Visitors', 'see', 'military', 'stables,', 'brewery', 'temple', 'goddess', 'Kali', '(goddess)', 'along', 'Hanuman', 'statue', 'right', 'side', 'temple,', 'well', 'historic', 'gates.', 'The', 'original', 'commemorative', 'memorial', 'Tanaji', 'Malusare', 'unearthed', 'restoration', 'workers', 'Sinhagad', 'Fort', 'Feb', '2019.', 'The', 'stone', 'structure', 'found', 'buried', 'cement,', 'concrete,', 'layers', 'oil', 'paint', 'believed', 'around', '350', 'years', 'old.[7]', 'Shinhagad', 'Fort', 'played', 'vital', 'role', \"India's\", 'freedom', 'struggle.', 'Bal', 'Gandagdhar', 'Tilak', 'also', 'known', \"'The\", 'Father', 'Indian', \"Unrest',\", 'used', 'fort', 'summer', 'retreat.', 'It', 'Mahatma', 'Gandhi', 'return', 'South', 'Africa', 'historic', 'meeting', 'Tilak.', 'The', 'bungalow', 'bust', 'entrance.[8]', 'Training', 'exercises', 'carried', 'fort', 'cadets', 'National', 'Defence', 'Academy', 'Khadakwasla.', 'Cadets', 'academy', 'regularly', 'sent', 'hikes', 'runs', 'NDA', 'Sinhagad', 'full', 'battle', 'gear.', 'The', 'fort', 'also', 'houses', 'television', 'tower', 'broadcasting', 'local', 'TV', 'signals.', 'Currently,', 'Non-Vegetarian', 'food,', 'Partying', 'including', 'alcoholic', 'beverages', 'smoking', 'banned', 'fort.[9][10]', 'Pune', 'Mahanagar', 'Parivahan', 'Mahamandal', 'Limited', '(PMPML)', 'runs', 'bus', 'service', '(bus', 'number', '50)', 'Shaniwarwada', 'Sinhagad', 'foothills', '(Sinhagad', 'Payatha)[11].', 'The', 'climbing', 'route', 'either', 'side', 'fort', 'covered', 'hour.', 'Shared', 'taxi', 'services', 'base', 'well', 'top', 'mountain', 'also', 'available.']\n"
     ]
    },
    {
     "ename": "KeyError",
     "evalue": "\"word 'Sinhagad' not in vocabulary\"",
     "output_type": "error",
     "traceback": [
      "\u001b[1;31m---------------------------------------------------------------------------\u001b[0m",
      "\u001b[1;31mKeyError\u001b[0m                                  Traceback (most recent call last)",
      "\u001b[1;32m<ipython-input-8-9bf607f30fc0>\u001b[0m in \u001b[0;36m<module>\u001b[1;34m\u001b[0m\n\u001b[0;32m     40\u001b[0m \u001b[1;31m#Word2Vec\u001b[0m\u001b[1;33m\u001b[0m\u001b[1;33m\u001b[0m\u001b[0m\n\u001b[0;32m     41\u001b[0m \u001b[0mmodel\u001b[0m \u001b[1;33m=\u001b[0m \u001b[0mword2vec\u001b[0m\u001b[1;33m.\u001b[0m\u001b[0mWord2Vec\u001b[0m\u001b[1;33m(\u001b[0m\u001b[0mwithoutStopwords\u001b[0m\u001b[1;33m,\u001b[0m \u001b[0mworkers\u001b[0m \u001b[1;33m=\u001b[0m \u001b[1;36m1\u001b[0m\u001b[1;33m,\u001b[0m \u001b[0msize\u001b[0m \u001b[1;33m=\u001b[0m \u001b[1;36m2\u001b[0m\u001b[1;33m,\u001b[0m \u001b[0mmin_count\u001b[0m \u001b[1;33m=\u001b[0m \u001b[1;36m1\u001b[0m\u001b[1;33m,\u001b[0m \u001b[0mwindow\u001b[0m \u001b[1;33m=\u001b[0m \u001b[1;36m3\u001b[0m\u001b[1;33m,\u001b[0m \u001b[0msg\u001b[0m \u001b[1;33m=\u001b[0m \u001b[1;36m0\u001b[0m\u001b[1;33m)\u001b[0m\u001b[1;33m\u001b[0m\u001b[0m\n\u001b[1;32m---> 42\u001b[1;33m \u001b[0msimilar_word\u001b[0m \u001b[1;33m=\u001b[0m \u001b[0mmodel\u001b[0m\u001b[1;33m.\u001b[0m\u001b[0mwv\u001b[0m\u001b[1;33m.\u001b[0m\u001b[0mmost_similar\u001b[0m\u001b[1;33m(\u001b[0m\u001b[1;34m'Sinhagad'\u001b[0m\u001b[1;33m)\u001b[0m\u001b[1;33m\u001b[0m\u001b[0m\n\u001b[0m\u001b[0;32m     43\u001b[0m \u001b[0mprint\u001b[0m\u001b[1;33m(\u001b[0m\u001b[1;34m\"Most common word to sinhagad is: {}\"\u001b[0m\u001b[1;33m.\u001b[0m\u001b[0mformat\u001b[0m\u001b[1;33m(\u001b[0m\u001b[0msimilar_word\u001b[0m\u001b[1;33m)\u001b[0m\u001b[1;33m)\u001b[0m\u001b[1;33m\u001b[0m\u001b[0m\n",
      "\u001b[1;32mc:\\python37\\lib\\site-packages\\gensim\\models\\keyedvectors.py\u001b[0m in \u001b[0;36mmost_similar\u001b[1;34m(self, positive, negative, topn, restrict_vocab, indexer)\u001b[0m\n\u001b[0;32m    551\u001b[0m                 \u001b[0mmean\u001b[0m\u001b[1;33m.\u001b[0m\u001b[0mappend\u001b[0m\u001b[1;33m(\u001b[0m\u001b[0mweight\u001b[0m \u001b[1;33m*\u001b[0m \u001b[0mword\u001b[0m\u001b[1;33m)\u001b[0m\u001b[1;33m\u001b[0m\u001b[0m\n\u001b[0;32m    552\u001b[0m             \u001b[1;32melse\u001b[0m\u001b[1;33m:\u001b[0m\u001b[1;33m\u001b[0m\u001b[0m\n\u001b[1;32m--> 553\u001b[1;33m                 \u001b[0mmean\u001b[0m\u001b[1;33m.\u001b[0m\u001b[0mappend\u001b[0m\u001b[1;33m(\u001b[0m\u001b[0mweight\u001b[0m \u001b[1;33m*\u001b[0m \u001b[0mself\u001b[0m\u001b[1;33m.\u001b[0m\u001b[0mword_vec\u001b[0m\u001b[1;33m(\u001b[0m\u001b[0mword\u001b[0m\u001b[1;33m,\u001b[0m \u001b[0muse_norm\u001b[0m\u001b[1;33m=\u001b[0m\u001b[1;32mTrue\u001b[0m\u001b[1;33m)\u001b[0m\u001b[1;33m)\u001b[0m\u001b[1;33m\u001b[0m\u001b[0m\n\u001b[0m\u001b[0;32m    554\u001b[0m                 \u001b[1;32mif\u001b[0m \u001b[0mword\u001b[0m \u001b[1;32min\u001b[0m \u001b[0mself\u001b[0m\u001b[1;33m.\u001b[0m\u001b[0mvocab\u001b[0m\u001b[1;33m:\u001b[0m\u001b[1;33m\u001b[0m\u001b[0m\n\u001b[0;32m    555\u001b[0m                     \u001b[0mall_words\u001b[0m\u001b[1;33m.\u001b[0m\u001b[0madd\u001b[0m\u001b[1;33m(\u001b[0m\u001b[0mself\u001b[0m\u001b[1;33m.\u001b[0m\u001b[0mvocab\u001b[0m\u001b[1;33m[\u001b[0m\u001b[0mword\u001b[0m\u001b[1;33m]\u001b[0m\u001b[1;33m.\u001b[0m\u001b[0mindex\u001b[0m\u001b[1;33m)\u001b[0m\u001b[1;33m\u001b[0m\u001b[0m\n",
      "\u001b[1;32mc:\\python37\\lib\\site-packages\\gensim\\models\\keyedvectors.py\u001b[0m in \u001b[0;36mword_vec\u001b[1;34m(self, word, use_norm)\u001b[0m\n\u001b[0;32m    466\u001b[0m             \u001b[1;32mreturn\u001b[0m \u001b[0mresult\u001b[0m\u001b[1;33m\u001b[0m\u001b[0m\n\u001b[0;32m    467\u001b[0m         \u001b[1;32melse\u001b[0m\u001b[1;33m:\u001b[0m\u001b[1;33m\u001b[0m\u001b[0m\n\u001b[1;32m--> 468\u001b[1;33m             \u001b[1;32mraise\u001b[0m \u001b[0mKeyError\u001b[0m\u001b[1;33m(\u001b[0m\u001b[1;34m\"word '%s' not in vocabulary\"\u001b[0m \u001b[1;33m%\u001b[0m \u001b[0mword\u001b[0m\u001b[1;33m)\u001b[0m\u001b[1;33m\u001b[0m\u001b[0m\n\u001b[0m\u001b[0;32m    469\u001b[0m \u001b[1;33m\u001b[0m\u001b[0m\n\u001b[0;32m    470\u001b[0m     \u001b[1;32mdef\u001b[0m \u001b[0mget_vector\u001b[0m\u001b[1;33m(\u001b[0m\u001b[0mself\u001b[0m\u001b[1;33m,\u001b[0m \u001b[0mword\u001b[0m\u001b[1;33m)\u001b[0m\u001b[1;33m:\u001b[0m\u001b[1;33m\u001b[0m\u001b[0m\n",
      "\u001b[1;31mKeyError\u001b[0m: \"word 'Sinhagad' not in vocabulary\""
     ]
    }
   ],
   "source": [
    "import wikipedia\n",
    "import sys\n",
    "import requests\n",
    "import bs4\n",
    "import urllib.request\n",
    "import re\n",
    "from nltk.corpus import stopwords \n",
    "from nltk.tokenize import word_tokenize\n",
    "from os import path\n",
    "import wikipedia\n",
    "import sys\n",
    "import requests\n",
    "import bs4\n",
    "import urllib.request\n",
    "import re\n",
    "from nltk.corpus import stopwords \n",
    "from nltk.tokenize import word_tokenize\n",
    "from os import path\n",
    "from gensim.models import word2vec\n",
    "\n",
    "#level 0 data\n",
    "res= requests.get('https://en.wikipedia.org/wiki/'+'Sinhagad')\n",
    "res.raise_for_status()\n",
    "\n",
    "wiki=bs4.BeautifulSoup(res.text,\"html.parser\")  \n",
    "level0data=' '\n",
    "for i in wiki.select('p'):\n",
    "    print(i.getText())\n",
    "    level0data=level0data + i.getText()\n",
    "    \n",
    "#Removing stop words\n",
    "stop_words = set(stopwords.words('english'))\n",
    "withoutStopwords=[]\n",
    "words = level0data.split()\n",
    "for r in words: \n",
    "    if not r in stop_words: \n",
    "       withoutStopwords.append(r)\n",
    "print(withoutStopwords)\n",
    "\n",
    "#Word2Vec\n",
    "model = word2vec.Word2Vec(withoutStopwords, workers = 1, size = 2, min_count = 1, window = 3, sg = 0)\n",
    "similar_word = model.wv.most_similar('Sinhagad')\n",
    "print(\"Most common word to sinhagad is: {}\".format(similar_word))"
   ]
  },
  {
   "cell_type": "code",
   "execution_count": 5,
   "metadata": {},
   "outputs": [
    {
     "ename": "KeyError",
     "evalue": "\"word 'sinhagad' not in vocabulary\"",
     "output_type": "error",
     "traceback": [
      "\u001b[1;31m---------------------------------------------------------------------------\u001b[0m",
      "\u001b[1;31mKeyError\u001b[0m                                  Traceback (most recent call last)",
      "\u001b[1;32m<ipython-input-5-30e20d667bab>\u001b[0m in \u001b[0;36m<module>\u001b[1;34m\u001b[0m\n\u001b[0;32m      1\u001b[0m \u001b[0mmodel\u001b[0m \u001b[1;33m=\u001b[0m \u001b[0mword2vec\u001b[0m\u001b[1;33m.\u001b[0m\u001b[0mWord2Vec\u001b[0m\u001b[1;33m(\u001b[0m\u001b[0mwithoutStopwords\u001b[0m\u001b[1;33m,\u001b[0m \u001b[0mworkers\u001b[0m \u001b[1;33m=\u001b[0m \u001b[1;36m1\u001b[0m\u001b[1;33m,\u001b[0m \u001b[0msize\u001b[0m \u001b[1;33m=\u001b[0m \u001b[1;36m2\u001b[0m\u001b[1;33m,\u001b[0m \u001b[0mmin_count\u001b[0m \u001b[1;33m=\u001b[0m \u001b[1;36m1\u001b[0m\u001b[1;33m,\u001b[0m \u001b[0mwindow\u001b[0m \u001b[1;33m=\u001b[0m \u001b[1;36m3\u001b[0m\u001b[1;33m,\u001b[0m \u001b[0msg\u001b[0m \u001b[1;33m=\u001b[0m \u001b[1;36m0\u001b[0m\u001b[1;33m)\u001b[0m\u001b[1;33m\u001b[0m\u001b[0m\n\u001b[1;32m----> 2\u001b[1;33m \u001b[0msimilar_word\u001b[0m \u001b[1;33m=\u001b[0m \u001b[0mmodel\u001b[0m\u001b[1;33m.\u001b[0m\u001b[0mwv\u001b[0m\u001b[1;33m.\u001b[0m\u001b[0mmost_similar\u001b[0m\u001b[1;33m(\u001b[0m\u001b[1;34m'sinhagad'\u001b[0m\u001b[1;33m)\u001b[0m\u001b[1;33m\u001b[0m\u001b[0m\n\u001b[0m\u001b[0;32m      3\u001b[0m \u001b[0mprint\u001b[0m\u001b[1;33m(\u001b[0m\u001b[1;34m\"Most common word to sinhagad is: {}\"\u001b[0m\u001b[1;33m.\u001b[0m\u001b[0mformat\u001b[0m\u001b[1;33m(\u001b[0m\u001b[0msimilar_word\u001b[0m\u001b[1;33m)\u001b[0m\u001b[1;33m)\u001b[0m\u001b[1;33m\u001b[0m\u001b[0m\n",
      "\u001b[1;32mc:\\python37\\lib\\site-packages\\gensim\\models\\keyedvectors.py\u001b[0m in \u001b[0;36mmost_similar\u001b[1;34m(self, positive, negative, topn, restrict_vocab, indexer)\u001b[0m\n\u001b[0;32m    551\u001b[0m                 \u001b[0mmean\u001b[0m\u001b[1;33m.\u001b[0m\u001b[0mappend\u001b[0m\u001b[1;33m(\u001b[0m\u001b[0mweight\u001b[0m \u001b[1;33m*\u001b[0m \u001b[0mword\u001b[0m\u001b[1;33m)\u001b[0m\u001b[1;33m\u001b[0m\u001b[0m\n\u001b[0;32m    552\u001b[0m             \u001b[1;32melse\u001b[0m\u001b[1;33m:\u001b[0m\u001b[1;33m\u001b[0m\u001b[0m\n\u001b[1;32m--> 553\u001b[1;33m                 \u001b[0mmean\u001b[0m\u001b[1;33m.\u001b[0m\u001b[0mappend\u001b[0m\u001b[1;33m(\u001b[0m\u001b[0mweight\u001b[0m \u001b[1;33m*\u001b[0m \u001b[0mself\u001b[0m\u001b[1;33m.\u001b[0m\u001b[0mword_vec\u001b[0m\u001b[1;33m(\u001b[0m\u001b[0mword\u001b[0m\u001b[1;33m,\u001b[0m \u001b[0muse_norm\u001b[0m\u001b[1;33m=\u001b[0m\u001b[1;32mTrue\u001b[0m\u001b[1;33m)\u001b[0m\u001b[1;33m)\u001b[0m\u001b[1;33m\u001b[0m\u001b[0m\n\u001b[0m\u001b[0;32m    554\u001b[0m                 \u001b[1;32mif\u001b[0m \u001b[0mword\u001b[0m \u001b[1;32min\u001b[0m \u001b[0mself\u001b[0m\u001b[1;33m.\u001b[0m\u001b[0mvocab\u001b[0m\u001b[1;33m:\u001b[0m\u001b[1;33m\u001b[0m\u001b[0m\n\u001b[0;32m    555\u001b[0m                     \u001b[0mall_words\u001b[0m\u001b[1;33m.\u001b[0m\u001b[0madd\u001b[0m\u001b[1;33m(\u001b[0m\u001b[0mself\u001b[0m\u001b[1;33m.\u001b[0m\u001b[0mvocab\u001b[0m\u001b[1;33m[\u001b[0m\u001b[0mword\u001b[0m\u001b[1;33m]\u001b[0m\u001b[1;33m.\u001b[0m\u001b[0mindex\u001b[0m\u001b[1;33m)\u001b[0m\u001b[1;33m\u001b[0m\u001b[0m\n",
      "\u001b[1;32mc:\\python37\\lib\\site-packages\\gensim\\models\\keyedvectors.py\u001b[0m in \u001b[0;36mword_vec\u001b[1;34m(self, word, use_norm)\u001b[0m\n\u001b[0;32m    466\u001b[0m             \u001b[1;32mreturn\u001b[0m \u001b[0mresult\u001b[0m\u001b[1;33m\u001b[0m\u001b[0m\n\u001b[0;32m    467\u001b[0m         \u001b[1;32melse\u001b[0m\u001b[1;33m:\u001b[0m\u001b[1;33m\u001b[0m\u001b[0m\n\u001b[1;32m--> 468\u001b[1;33m             \u001b[1;32mraise\u001b[0m \u001b[0mKeyError\u001b[0m\u001b[1;33m(\u001b[0m\u001b[1;34m\"word '%s' not in vocabulary\"\u001b[0m \u001b[1;33m%\u001b[0m \u001b[0mword\u001b[0m\u001b[1;33m)\u001b[0m\u001b[1;33m\u001b[0m\u001b[0m\n\u001b[0m\u001b[0;32m    469\u001b[0m \u001b[1;33m\u001b[0m\u001b[0m\n\u001b[0;32m    470\u001b[0m     \u001b[1;32mdef\u001b[0m \u001b[0mget_vector\u001b[0m\u001b[1;33m(\u001b[0m\u001b[0mself\u001b[0m\u001b[1;33m,\u001b[0m \u001b[0mword\u001b[0m\u001b[1;33m)\u001b[0m\u001b[1;33m:\u001b[0m\u001b[1;33m\u001b[0m\u001b[0m\n",
      "\u001b[1;31mKeyError\u001b[0m: \"word 'sinhagad' not in vocabulary\""
     ]
    }
   ],
   "source": []
  },
  {
   "cell_type": "code",
   "execution_count": null,
   "metadata": {},
   "outputs": [],
   "source": []
  }
 ],
 "metadata": {
  "kernelspec": {
   "display_name": "Python 3",
   "language": "python",
   "name": "python3"
  },
  "language_info": {
   "codemirror_mode": {
    "name": "ipython",
    "version": 3
   },
   "file_extension": ".py",
   "mimetype": "text/x-python",
   "name": "python",
   "nbconvert_exporter": "python",
   "pygments_lexer": "ipython3",
   "version": "3.7.0"
  }
 },
 "nbformat": 4,
 "nbformat_minor": 4
}
