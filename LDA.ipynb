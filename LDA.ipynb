{
 "cells": [
  {
   "cell_type": "code",
   "execution_count": 8,
   "metadata": {},
   "outputs": [
    {
     "name": "stdout",
     "output_type": "stream",
     "text": [
      " \n",
      "Sinhagad is a hill fortress located at around 35 km southwest of the city of Pune, India. Some of the information available at this fort suggests that the fort could have been built 2000 years ago. The caves and the carvings in the Kaundinyeshwar temple stand as proofs for the same.\n",
      "Previously known as Kondhana, the fort had been the site of many battles, most notably the Battle of Sinhagad in 1670. Perched on an isolated cliff of the Bhuleswar range in the Sahyadri Mountains, the fort is situated on a hill about 760 metres above ground and 1,312 metres above mean sea level.[citation needed]\n",
      "The Sinhagad (Lion's Fort) was strategically built to provide natural protection due to its very steep slopes. The walls and bastions were constructed only at key places. There are two gates to enter the fort, the Kalyan Darwaza and Pune Darwaza which are positioned at the south east and north-east ends respectively.[1] The fort was also strategically located at the centre of a string of other Maratha Empire forts such as Rajgad Fort, Purandar Fort and Torna Fort.\n",
      "The Sinhgad Fort was initially known as \"Kondhana\" after the sage Kaundinya. The Kaundinyeshwar temple coupled with the caves and carvings indicates that the fort had probably been built around two thousand years ago. It was seized by Muhammad bin Tughlaq from the Koli king Nag Naik in 1328 AD.[2][3]\n",
      "Shahaji Bhosale, as the commander of Ibrahim Adil Shah I, was entrusted with the control of the Pune region. His son Chhatrapati Shivaji Maharaj, refused to accept the Adilshahi and initiated the task of setting up Swarajya. Chhatrapati Shivaji Maharaj gained control of Kondana in 1647 by convincing Siddi Amber, the Adilshahi Sardar who controlled the fort, that he, the son of Shahaji Bhosale, could manage the fort's defenses optimally. Bapuji Mudgal Deshpande played a key role in this activity. Adil Shah jailed Siddi Amber for this treasonous act and schemed to get it back. He imprisoned Shahaji Bhosale for a concocted crime and informed Chhatrapati Shivaji Maharaj. In 1649, Adil Shah traded the fort for Shahaji's release. Chhatrapati Shivaji Maharaj recaptured it in 1656 again with the help of Bapuji Mudgal Deshpande who convinced the Fort commander by giving land in the newly created Shivapur village and peacefully gained control of the fort.\n",
      "This fort saw attacks by Mughals in 1662, 1663 and 1665. In 1664, Shaista Khan, a Mughal general, tried to bribe the people of the fort to hand it over to him, but was unsuccessful.\n",
      "Through the Treaty of Purandar, the fort passed into the hands of the Mughal army chief Mirza Raja Jai Singh I in the year 1665.\n",
      "In 1670, Chhatrapati Shivaji Maharaj reconquered the fort for the third time through his Subedar, Tanhaji Malusare, and the fort came and stayed under the Maratha rule till 1689 A.D.\n",
      "After the death of Chhatrapati Sambhaji Maharaj, the Mughals regained control of the fort. The Marathas headed by \"Sardar Balkawade\", recaptured it in 1693. Chatrapati Rajaram took asylum in this fort during a Mogul raid on Satara but died in the Sinhagad Fort on 3 March 1700 A.D.\n",
      "In 1703, Aurangzeb conquered the fort. In 1706, it once again went into the hands of the Maratha's. Pantaji Shivdev of Sangola, Visaji Chafar and the Pant Pratinidhis played a key role in this battle. The fort remained under the Maratha rule till the year 1818, after which the British conquered it. The British, however, took 3 months to capture this fort, which was longest it took them to win any fort in Maharashtra.[citation needed]\n",
      "One of the most famous battles on Sinhgad was fought by Tanaji Malusare, general of Chhatrapati Shivaji of the Maratha Empire in order to recapture the fort on March 1670[4]\n",
      "A steep cliff leading to the fort was scaled in the dead of the night with the help of a tamed monitor lizard named \"Yashwanti\", colloquially known as a Ghorpad. Thereafter, A fierce battle ensued between Tanaji and his men versus the Mughal army headed by Udaybhan Singh Rathod, a Rajput sardar who had control of the fort. Tanaji Malusare lost his life, but his brother Suryaji took over and captured the Kondana fort, now known as Sinhagad.[5]\n",
      "There is an anecdote that upon hearing of Tanaji's death, Chhatrapati Shivaji Maharaj expressed his remorse with the words, \"Gad aala, pan Sinha gela\" - \"The Fort is conquered, but the Lion was lost\".\n",
      "According to some, the name Sinhagad predates this event. A bust of Tanaji Malusare was established on the fort in the memory of his contribution to the battle.[6]\n",
      "The Sinhagad Fort is a popular weekend destination for many residents of Pune, including trekking enthusiasts with access to the top of the fort from the base of the Sinhgad village. The trek involves a one-way walk of 2.7 km (1.6 miles) over which the walker gains about 600 m (1950 feet) in elevation.\n",
      "Parts of the once extensive fortification are in ruins. The fort houses a memorial to Tanaji as well as the tomb of Rajaram Chhatrapati. Visitors can see the military stables, a brewery and a temple of the goddess Kali (goddess) along with a Hanuman statue to the right side of the temple, as well as the historic gates. The original commemorative memorial of Tanaji Malusare has been unearthed by the restoration workers at Sinhagad Fort in Feb 2019. The stone structure was found buried under cement, concrete, and layers of oil paint and is believed to be around 350 years old.[7]\n",
      "Shinhagad Fort has played a vital role in India's freedom struggle. Bal Gandagdhar Tilak also known as 'The Father of Indian Unrest', used the fort as a summer retreat. It is here where Mahatma Gandhi after his return from South Africa had a historic meeting with Tilak. The bungalow has his bust at the entrance.[8]\n",
      "Training exercises are carried out at the fort by cadets from the National Defence Academy at Khadakwasla. Cadets from the academy are regularly sent on hikes and runs from NDA to Sinhagad in full battle gear.\n",
      "The fort also houses a television tower for broadcasting local TV signals. Currently, Non-Vegetarian food, Partying including alcoholic beverages and smoking is banned on the fort.[9][10]\n",
      "Pune Mahanagar Parivahan Mahamandal Limited (PMPML) runs a bus service (bus number 50) from Shaniwarwada to the Sinhagad foothills (Sinhagad Payatha)[11]. The climbing route from either side of the fort can be covered in an hour. Shared taxi services to the base as well as the top of the mountain are also available.\n",
      "\n",
      "[['', '\\nsinhagad', 'hill', 'fortress', 'located', 'around', '35\\xa0km', 'southwest', 'city', 'pune,', 'india'], ['', 'some', 'information', 'available', 'fort', 'suggests', 'fort', 'could', 'built', '2000', 'years', 'ago'], ['', 'the', 'caves', 'carvings', 'kaundinyeshwar', 'temple', 'stand', 'proofs'], ['\\npreviously', 'known', 'kondhana,', 'fort', 'site', 'many', 'battles,', 'notably', 'battle', 'sinhagad', '1670'], ['', 'perched', 'isolated', 'cliff', 'bhuleswar', 'range', 'sahyadri', 'mountains,', 'fort', 'situated', 'hill', '760', 'metres', 'ground', '1,312', 'metres', 'mean', 'sea', 'level'], ['[citation', 'needed]\\nthe', 'sinhagad', \"(lion's\", 'fort)', 'strategically', 'built', 'provide', 'natural', 'protection', 'due', 'steep', 'slopes'], ['', 'the', 'walls', 'bastions', 'constructed', 'key', 'places'], ['', 'there', 'two', 'gates', 'enter', 'fort,', 'kalyan', 'darwaza', 'pune', 'darwaza', 'positioned', 'south', 'east', 'north-east', 'ends', 'respectively'], ['[1]', 'the', 'fort', 'also', 'strategically', 'located', 'centre', 'string', 'maratha', 'empire', 'forts', 'rajgad', 'fort,', 'purandar', 'fort', 'torna', 'fort'], ['\\nthe', 'sinhgad', 'fort', 'initially', 'known', '\"kondhana\"', 'sage', 'kaundinya'], ['', 'the', 'kaundinyeshwar', 'temple', 'coupled', 'caves', 'carvings', 'indicates', 'fort', 'probably', 'built', 'around', 'two', 'thousand', 'years', 'ago'], ['', 'it', 'seized', 'muhammad', 'bin', 'tughlaq', 'koli', 'king', 'nag', 'naik', '1328', 'ad'], ['[2][3]\\nshahaji', 'bhosale,', 'commander', 'ibrahim', 'adil', 'shah', 'i,', 'entrusted', 'control', 'pune', 'region'], ['', 'his', 'son', 'chhatrapati', 'shivaji', 'maharaj,', 'refused', 'accept', 'adilshahi', 'initiated', 'task', 'setting', 'swarajya'], ['', 'chhatrapati', 'shivaji', 'maharaj', 'gained', 'control', 'kondana', '1647', 'convincing', 'siddi', 'amber,', 'adilshahi', 'sardar', 'controlled', 'fort,', 'he,', 'son', 'shahaji', 'bhosale,', 'could', 'manage', \"fort's\", 'defenses', 'optimally'], ['', 'bapuji', 'mudgal', 'deshpande', 'played', 'key', 'role', 'activity'], ['', 'adil', 'shah', 'jailed', 'siddi', 'amber', 'treasonous', 'act', 'schemed', 'get', 'back'], ['', 'he', 'imprisoned', 'shahaji', 'bhosale', 'concocted', 'crime', 'informed', 'chhatrapati', 'shivaji', 'maharaj'], ['', 'in', '1649,', 'adil', 'shah', 'traded', 'fort', \"shahaji's\", 'release'], ['', 'chhatrapati', 'shivaji', 'maharaj', 'recaptured', '1656', 'help', 'bapuji', 'mudgal', 'deshpande', 'convinced', 'fort', 'commander', 'giving', 'land', 'newly', 'created', 'shivapur', 'village', 'peacefully', 'gained', 'control', 'fort'], ['\\nthis', 'fort', 'saw', 'attacks', 'mughals', '1662,', '1663', '1665'], ['', 'in', '1664,', 'shaista', 'khan,', 'mughal', 'general,', 'tried', 'bribe', 'people', 'fort', 'hand', 'him,', 'unsuccessful'], ['\\nthrough', 'treaty', 'purandar,', 'fort', 'passed', 'hands', 'mughal', 'army', 'chief', 'mirza', 'raja', 'jai', 'singh', 'i', 'year', '1665'], ['\\nin', '1670,', 'chhatrapati', 'shivaji', 'maharaj', 'reconquered', 'fort', 'third', 'time', 'subedar,', 'tanhaji', 'malusare,', 'fort', 'came', 'stayed', 'maratha', 'rule', 'till', '1689', 'a'], ['d'], ['\\nafter', 'death', 'chhatrapati', 'sambhaji', 'maharaj,', 'mughals', 'regained', 'control', 'fort'], ['', 'the', 'marathas', 'headed', '\"sardar', 'balkawade\",', 'recaptured', '1693'], ['', 'chatrapati', 'rajaram', 'took', 'asylum', 'fort', 'mogul', 'raid', 'satara', 'died', 'sinhagad', 'fort', '3', 'march', '1700', 'a'], ['d'], ['\\nin', '1703,', 'aurangzeb', 'conquered', 'fort'], ['', 'in', '1706,', 'went', 'hands', \"maratha's\"], ['', 'pantaji', 'shivdev', 'sangola,', 'visaji', 'chafar', 'pant', 'pratinidhis', 'played', 'key', 'role', 'battle'], ['', 'the', 'fort', 'remained', 'maratha', 'rule', 'till', 'year', '1818,', 'british', 'conquered'], ['', 'the', 'british,', 'however,', 'took', '3', 'months', 'capture', 'fort,', 'longest', 'took', 'win', 'fort', 'maharashtra'], ['[citation', 'needed]\\none', 'famous', 'battles', 'sinhgad', 'fought', 'tanaji', 'malusare,', 'general', 'chhatrapati', 'shivaji', 'maratha', 'empire', 'order', 'recapture', 'fort', 'march', '1670[4]\\na', 'steep', 'cliff', 'leading', 'fort', 'scaled', 'dead', 'night', 'help', 'tamed', 'monitor', 'lizard', 'named', '\"yashwanti\",', 'colloquially', 'known', 'ghorpad'], ['', 'thereafter,', 'a', 'fierce', 'battle', 'ensued', 'tanaji', 'men', 'versus', 'mughal', 'army', 'headed', 'udaybhan', 'singh', 'rathod,', 'rajput', 'sardar', 'control', 'fort'], ['', 'tanaji', 'malusare', 'lost', 'life,', 'brother', 'suryaji', 'took', 'captured', 'kondana', 'fort,', 'known', 'sinhagad'], ['[5]\\nthere', 'anecdote', 'upon', 'hearing', \"tanaji's\", 'death,', 'chhatrapati', 'shivaji', 'maharaj', 'expressed', 'remorse', 'words,', '\"gad', 'aala,', 'pan', 'sinha', 'gela\"', '-', '\"the', 'fort', 'conquered,', 'lion', 'lost\"'], ['\\naccording', 'some,', 'name', 'sinhagad', 'predates', 'event'], ['', 'a', 'bust', 'tanaji', 'malusare', 'established', 'fort', 'memory', 'contribution', 'battle'], ['[6]\\nthe', 'sinhagad', 'fort', 'popular', 'weekend', 'destination', 'many', 'residents', 'pune,', 'including', 'trekking', 'enthusiasts', 'access', 'top', 'fort', 'base', 'sinhgad', 'village'], ['', 'the', 'trek', 'involves', 'one-way', 'walk', '2'], ['7', 'km', '(1'], ['6', 'miles)', 'walker', 'gains', '600', '(1950', 'feet)', 'elevation'], ['\\nparts', 'extensive', 'fortification', 'ruins'], ['', 'the', 'fort', 'houses', 'memorial', 'tanaji', 'well', 'tomb', 'rajaram', 'chhatrapati'], ['', 'visitors', 'see', 'military', 'stables,', 'brewery', 'temple', 'goddess', 'kali', '(goddess)', 'along', 'hanuman', 'statue', 'right', 'side', 'temple,', 'well', 'historic', 'gates'], ['', 'the', 'original', 'commemorative', 'memorial', 'tanaji', 'malusare', 'unearthed', 'restoration', 'workers', 'sinhagad', 'fort', 'feb', '2019'], ['', 'the', 'stone', 'structure', 'found', 'buried', 'cement,', 'concrete,', 'layers', 'oil', 'paint', 'believed', 'around', '350', 'years', 'old'], ['[7]\\nshinhagad', 'fort', 'played', 'vital', 'role', \"india's\", 'freedom', 'struggle'], ['', 'bal', 'gandagdhar', 'tilak', 'also', 'known', \"'the\", 'father', 'indian', \"unrest',\", 'used', 'fort', 'summer', 'retreat'], ['', 'it', 'mahatma', 'gandhi', 'return', 'south', 'africa', 'historic', 'meeting', 'tilak'], ['', 'the', 'bungalow', 'bust', 'entrance'], ['[8]\\ntraining', 'exercises', 'carried', 'fort', 'cadets', 'national', 'defence', 'academy', 'khadakwasla'], ['', 'cadets', 'academy', 'regularly', 'sent', 'hikes', 'runs', 'nda', 'sinhagad', 'full', 'battle', 'gear'], ['\\nthe', 'fort', 'also', 'houses', 'television', 'tower', 'broadcasting', 'local', 'tv', 'signals'], ['', 'currently,', 'non-vegetarian', 'food,', 'partying', 'including', 'alcoholic', 'beverages', 'smoking', 'banned', 'fort'], ['[9][10]\\npune', 'mahanagar', 'parivahan', 'mahamandal', 'limited', '(pmpml)', 'runs', 'bus', 'service', '(bus', 'number', '50)', 'shaniwarwada', 'sinhagad', 'foothills', '(sinhagad', 'payatha)[11]'], ['', 'the', 'climbing', 'route', 'either', 'side', 'fort', 'covered', 'hour'], ['', 'shared', 'taxi', 'services', 'base', 'well', 'top', 'mountain', 'also', 'available'], ['\\n']]\n"
     ]
    }
   ],
   "source": [
    "from bs4 import BeautifulSoup\n",
    "import requests\n",
    "import nltk, re, pprint\n",
    "from nltk.corpus import stopwords \n",
    "\n",
    "site=\"Sinhagad\"\n",
    "res = requests.get(\"https://en.wikipedia.org/wiki/\"+site)\n",
    "soup = BeautifulSoup(res.text, 'html.parser')\n",
    "text=' '\n",
    "for item in soup.find_all(\"p\"):\n",
    "    if item.text.startswith(\"The history\"):break\n",
    "    text=text+ item.text \n",
    "print(text)\n",
    "\n",
    "#Stop word removal\n",
    "stop_words = set(stopwords.words('english'))\n",
    "\n",
    "sentences = re.split(r'[.!?]', text)    \n",
    "for i, sentence in enumerate(sentences):\n",
    "        tokenized= []\n",
    "        for word in sentence.split(' '):\n",
    "            if not word in stop_words: \n",
    "                word = word.split('.')[0]\n",
    "                word = word.lower()\n",
    "                tokenized.append(word)\n",
    "        sentences[i] = tokenized\n",
    "  \n",
    "print(sentences)"
   ]
  },
  {
   "cell_type": "code",
   "execution_count": 10,
   "metadata": {},
   "outputs": [],
   "source": [
    "import gensim\n",
    "from gensim.utils import simple_preprocess\n",
    "from gensim.parsing.preprocessing import STOPWORDS\n",
    "from nltk.stem import WordNetLemmatizer, SnowballStemmer\n",
    "from nltk.stem.porter import *\n",
    "from gensim.corpora.dictionary import Dictionary\n",
    "import numpy as np\n",
    "\n",
    "common_dictionary = Dictionary(sentences)\n",
    "common_corpus = [common_dictionary.doc2bow(text) for text in sentences]\n",
    "# Train the model on the corpus.\n",
    "lda_model = gensim.models.LdaMulticore(common_corpus, num_topics=10, id2word=common_dictionary, passes=2, workers=2)"
   ]
  },
  {
   "cell_type": "code",
   "execution_count": 4,
   "metadata": {},
   "outputs": [
    {
     "name": "stdout",
     "output_type": "stream",
     "text": [
      "Topic: 0 \n",
      "Words: 0.041*\"the\" + 0.025*\"\" + 0.014*\"in\" + 0.014*\"has\" + 0.014*\"at\" + 0.014*\"his\" + 0.014*\"bust\" + 0.014*\"bungalow\" + 0.014*\"entrance\" + 0.014*\"\n",
      "\"\n",
      "Topic: 1 \n",
      "Words: 0.036*\"the\" + 0.029*\"and\" + 0.023*\"a\" + 0.020*\"his\" + 0.020*\"\" + 0.018*\"fort\" + 0.016*\"of\" + 0.013*\"tanaji\" + 0.012*\"d\" + 0.011*\"by\"\n",
      "Topic: 2 \n",
      "Words: 0.017*\"fort\" + 0.016*\"the\" + 0.016*\"as\" + 0.016*\"was\" + 0.016*\"initially\" + 0.016*\"after\" + 0.016*\"sinhgad\" + 0.016*\"known\" + 0.016*\"sage\" + 0.016*\"\"kondhana\"\"\n",
      "Topic: 3 \n",
      "Words: 0.039*\"the\" + 0.030*\"of\" + 0.027*\"fort\" + 0.025*\"a\" + 0.024*\"\" + 0.018*\"as\" + 0.017*\"in\" + 0.016*\"also\" + 0.011*\"known\" + 0.009*\"an\"\n",
      "Topic: 4 \n",
      "Words: 0.080*\"the\" + 0.038*\"of\" + 0.034*\"to\" + 0.031*\"fort\" + 0.029*\"a\" + 0.027*\"\" + 0.024*\"in\" + 0.014*\"was\" + 0.012*\"and\" + 0.012*\"sinhagad\"\n",
      "Topic: 5 \n",
      "Words: 0.057*\"the\" + 0.029*\"\" + 0.029*\"at\" + 0.022*\"and\" + 0.022*\"of\" + 0.015*\"in\" + 0.015*\"which\" + 0.015*\"darwaza\" + 0.015*\"are\" + 0.008*\"a\"\n",
      "Topic: 6 \n",
      "Words: 0.017*\"\" + 0.016*\"and\" + 0.016*\"for\" + 0.016*\"a\" + 0.016*\"chhatrapati\" + 0.016*\"crime\" + 0.016*\"imprisoned\" + 0.016*\"shahaji\" + 0.016*\"he\" + 0.016*\"bhosale\"\n",
      "Topic: 7 \n",
      "Words: 0.103*\"the\" + 0.037*\"fort\" + 0.035*\"of\" + 0.022*\"\" + 0.016*\"in\" + 0.011*\"that\" + 0.011*\"could\" + 0.011*\"conquered\" + 0.011*\"been\" + 0.010*\"year\"\n",
      "Topic: 8 \n",
      "Words: 0.073*\"the\" + 0.029*\"\" + 0.024*\"as\" + 0.022*\"and\" + 0.015*\"for\" + 0.015*\"in\" + 0.015*\"to\" + 0.014*\"of\" + 0.014*\"on\" + 0.014*\"above\"\n",
      "Topic: 9 \n",
      "Words: 0.084*\"the\" + 0.037*\"of\" + 0.035*\"fort\" + 0.021*\"in\" + 0.018*\"chhatrapati\" + 0.015*\"\" + 0.014*\"control\" + 0.014*\"with\" + 0.014*\"shivaji\" + 0.014*\"and\"\n"
     ]
    }
   ],
   "source": [
    "#For each topic, we will explore the words occuring in that topic and its relative weight.\n",
    "for idx, topic in lda_model.print_topics(-1):\n",
    "    print('Topic: {} \\nWords: {}'.format(idx, topic))"
   ]
  },
  {
   "cell_type": "code",
   "execution_count": 13,
   "metadata": {},
   "outputs": [
    {
     "name": "stdout",
     "output_type": "stream",
     "text": [
      "[(0, 0.1), (1, 0.1), (2, 0.1), (3, 0.1), (4, 0.1), (5, 0.1), (6, 0.1), (7, 0.1), (8, 0.1), (9, 0.1)]\n"
     ]
    }
   ],
   "source": [
    "##TESTING\n",
    "# Create a new corpus, made of previously unseen documents.\n",
    "other_texts = [['Pune', 'Kondhana', 'Tanaji'], ['Shivaji', 'Rajaram', 'Jijabai'],['Gadh', 'Torna', 'bhaji']]\n",
    "other_corpus = [common_dictionary.doc2bow(text) for text in other_texts]\n",
    "unseen_doc = other_corpus[0]\n",
    "vector = lda_model[unseen_doc]  # get topic probability distribution for a document\n",
    "print(vector)"
   ]
  },
  {
   "cell_type": "code",
   "execution_count": 14,
   "metadata": {},
   "outputs": [
    {
     "name": "stdout",
     "output_type": "stream",
     "text": [
      "[(0, 0.050000995), (1, 0.050000995), (2, 0.050000995), (3, 0.050000995), (4, 0.5499911), (5, 0.050000995), (6, 0.050000995), (7, 0.050000995), (8, 0.050000995), (9, 0.050000995)]\n"
     ]
    }
   ],
   "source": [
    "# Create a new corpus, made of previously unseen documents.\n",
    "other_texts = [['See', 'wwork', 'walk'], ['do', 'no', 'yes'],['done', 'eat', 'drink']]\n",
    "other_corpus = [common_dictionary.doc2bow(text) for text in other_texts]\n",
    "unseen_doc = other_corpus[0]\n",
    "vector = lda_model[unseen_doc]  # get topic probability distribution for a document\n",
    "print(vector)"
   ]
  },
  {
   "cell_type": "code",
   "execution_count": 15,
   "metadata": {},
   "outputs": [
    {
     "name": "stdout",
     "output_type": "stream",
     "text": [
      "[(0, 0.1), (1, 0.1), (2, 0.1), (3, 0.1), (4, 0.1), (5, 0.1), (6, 0.1), (7, 0.1), (8, 0.1), (9, 0.1)]\n"
     ]
    }
   ],
   "source": [
    "# Create a new corpus, made of previously unseen documents.\n",
    "other_texts = [['1000', '1200', '1300'], ['1500', '1600', '1700'],['1800', '1900', '2000']]\n",
    "other_corpus = [common_dictionary.doc2bow(text) for text in other_texts]\n",
    "unseen_doc = other_corpus[0]\n",
    "vector = lda_model[unseen_doc]  # get topic probability distribution for a document\n",
    "print(vector)"
   ]
  },
  {
   "cell_type": "code",
   "execution_count": null,
   "metadata": {},
   "outputs": [],
   "source": []
  }
 ],
 "metadata": {
  "kernelspec": {
   "display_name": "Python 3",
   "language": "python",
   "name": "python3"
  },
  "language_info": {
   "codemirror_mode": {
    "name": "ipython",
    "version": 3
   },
   "file_extension": ".py",
   "mimetype": "text/x-python",
   "name": "python",
   "nbconvert_exporter": "python",
   "pygments_lexer": "ipython3",
   "version": "3.7.0"
  }
 },
 "nbformat": 4,
 "nbformat_minor": 4
}
